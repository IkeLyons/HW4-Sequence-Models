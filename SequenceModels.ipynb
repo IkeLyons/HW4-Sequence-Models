{
  "nbformat": 4,
  "nbformat_minor": 0,
  "metadata": {
    "colab": {
      "name": "SequenceModels.ipynb",
      "provenance": [],
      "collapsed_sections": [],
      "mount_file_id": "1OweUI7F-7t3q_iNUKTw-kl71GazFLMXK",
      "authorship_tag": "ABX9TyP2m/gKx7fT8XxaWhiXj58d",
      "include_colab_link": true
    },
    "kernelspec": {
      "name": "python3",
      "display_name": "Python 3"
    },
    "language_info": {
      "name": "python"
    },
    "accelerator": "GPU"
  },
  "cells": [
    {
      "cell_type": "markdown",
      "metadata": {
        "id": "view-in-github",
        "colab_type": "text"
      },
      "source": [
        "<a href=\"https://colab.research.google.com/github/IkeLyons/HW4-Sequence-Models/blob/main/SequenceModels.ipynb\" target=\"_parent\"><img src=\"https://colab.research.google.com/assets/colab-badge.svg\" alt=\"Open In Colab\"/></a>"
      ]
    },
    {
      "cell_type": "markdown",
      "metadata": {
        "id": "XQkC_Q6KLzn_"
      },
      "source": [
        "In this homework I am going to try to generate text based off of the script of Star Wars (dataset link: https://www.kaggle.com/xvivancos/star-wars-movie-scripts). This problem could not be solved without the use of a sequential model due to the nature of text generation. When you are generating text the next character that is typed depends on all of the ones before it. This can be easily accomplished by sequence models such as a RNN that factor in a timestep. "
      ]
    },
    {
      "cell_type": "code",
      "metadata": {
        "colab": {
          "base_uri": "https://localhost:8080/"
        },
        "id": "7wAMevRY00TE",
        "outputId": "e7c3e1c3-11e0-4854-8c7d-5e78a2945b33"
      },
      "source": [
        "! pip install kaggle"
      ],
      "execution_count": 1,
      "outputs": [
        {
          "output_type": "stream",
          "name": "stdout",
          "text": [
            "Collecting kaggle\n",
            "  Using cached kaggle-1.5.12.tar.gz (58 kB)\n",
            "  Preparing metadata (setup.py): started\n",
            "  Preparing metadata (setup.py): finished with status 'done'\n",
            "Requirement already satisfied: six>=1.10 in c:\\python39\\lib\\site-packages (from kaggle) (1.15.0)\n",
            "Requirement already satisfied: certifi in c:\\python39\\lib\\site-packages (from kaggle) (2021.10.8)\n",
            "Requirement already satisfied: python-dateutil in c:\\python39\\lib\\site-packages (from kaggle) (2.8.2)\n",
            "Requirement already satisfied: requests in c:\\python39\\lib\\site-packages (from kaggle) (2.26.0)\n",
            "Collecting tqdm\n",
            "  Using cached tqdm-4.62.3-py2.py3-none-any.whl (76 kB)\n",
            "Collecting python-slugify\n",
            "  Using cached python_slugify-5.0.2-py2.py3-none-any.whl (6.7 kB)\n",
            "Requirement already satisfied: urllib3 in c:\\python39\\lib\\site-packages (from kaggle) (1.26.7)\n",
            "Requirement already satisfied: text-unidecode>=1.3 in c:\\python39\\lib\\site-packages (from python-slugify->kaggle) (1.3)\n",
            "Requirement already satisfied: charset-normalizer~=2.0.0 in c:\\python39\\lib\\site-packages (from requests->kaggle) (2.0.7)\n",
            "Requirement already satisfied: idna<4,>=2.5 in c:\\python39\\lib\\site-packages (from requests->kaggle) (3.3)\n",
            "Requirement already satisfied: colorama in c:\\python39\\lib\\site-packages (from tqdm->kaggle) (0.4.4)\n",
            "Building wheels for collected packages: kaggle\n",
            "  Building wheel for kaggle (setup.py): started\n",
            "  Building wheel for kaggle (setup.py): finished with status 'done'\n",
            "  Created wheel for kaggle: filename=kaggle-1.5.12-py3-none-any.whl size=73052 sha256=86e6578ed4d87a869783a280601513e2cf84ef86bea8e0eae5372518c11ac540\n",
            "  Stored in directory: c:\\users\\ikely\\appdata\\local\\pip\\cache\\wheels\\ac\\b2\\c3\\fa4706d469b5879105991d1c8be9a3c2ef329ba9fe2ce5085e\n",
            "Successfully built kaggle\n",
            "Installing collected packages: tqdm, python-slugify, kaggle\n",
            "Successfully installed kaggle-1.5.12 python-slugify-5.0.2 tqdm-4.62.3\n"
          ]
        }
      ]
    },
    {
      "cell_type": "code",
      "metadata": {
        "id": "rkuUcgnw5XZj",
        "colab": {
          "base_uri": "https://localhost:8080/"
        },
        "outputId": "adf6e8e8-85f7-4ae6-d468-c5070cc0e782"
      },
      "source": [
        "! mkdir ~/.kaggle"
      ],
      "execution_count": 2,
      "outputs": [
        {
          "output_type": "stream",
          "name": "stderr",
          "text": [
            "The syntax of the command is incorrect.\n"
          ]
        }
      ]
    },
    {
      "cell_type": "code",
      "metadata": {
        "id": "XjcdXgvz5ZXe",
        "colab": {
          "base_uri": "https://localhost:8080/"
        },
        "outputId": "0d8ff6aa-705a-4f4b-ad93-906dc9fb4296"
      },
      "source": [
        "! cp /content/drive/MyDrive/kaggle.json ~/.kaggle/kaggle.json"
      ],
      "execution_count": 3,
      "outputs": [
        {
          "output_type": "stream",
          "name": "stderr",
          "text": [
            "'cp' is not recognized as an internal or external command,\n",
            "operable program or batch file.\n"
          ]
        }
      ]
    },
    {
      "cell_type": "code",
      "metadata": {
        "colab": {
          "base_uri": "https://localhost:8080/"
        },
        "id": "MMnM1vqv5cme",
        "outputId": "befb72da-6c35-4579-c8ff-c4a67ac00ac9"
      },
      "source": [
        "! kaggle datasets download xvivancos/star-wars-movie-scripts"
      ],
      "execution_count": 4,
      "outputs": [
        {
          "output_type": "stream",
          "name": "stderr",
          "text": [
            "Traceback (most recent call last):\n",
            "  File \"c:\\python39\\lib\\runpy.py\", line 197, in _run_module_as_main\n",
            "    return _run_code(code, main_globals, None,\n",
            "  File \"c:\\python39\\lib\\runpy.py\", line 87, in _run_code\n",
            "    exec(code, run_globals)\n",
            "  File \"C:\\Python39\\Scripts\\kaggle.exe\\__main__.py\", line 4, in <module>\n",
            "  File \"c:\\python39\\lib\\site-packages\\kaggle\\__init__.py\", line 23, in <module>\n",
            "    api.authenticate()\n",
            "  File \"c:\\python39\\lib\\site-packages\\kaggle\\api\\kaggle_api_extended.py\", line 164, in authenticate\n",
            "    raise IOError('Could not find {}. Make sure it\\'s located in'\n",
            "OSError: Could not find kaggle.json. Make sure it's located in C:\\Users\\ikely\\.kaggle. Or use the environment method.\n"
          ]
        }
      ]
    },
    {
      "cell_type": "code",
      "metadata": {
        "colab": {
          "base_uri": "https://localhost:8080/"
        },
        "id": "hmP-OVB45nJB",
        "outputId": "7be340db-5061-4cab-cd0d-7605c15819c5"
      },
      "source": [
        "! unzip -o star-wars-movie-scripts.zip "
      ],
      "execution_count": 5,
      "outputs": [
        {
          "output_type": "stream",
          "name": "stderr",
          "text": [
            "'unzip' is not recognized as an internal or external command,\n",
            "operable program or batch file.\n"
          ]
        }
      ]
    },
    {
      "cell_type": "markdown",
      "metadata": {
        "id": "2cd4zXQ5NP95"
      },
      "source": [
        "We are using TensorFlow and some of the Keras utilties in order to solve this problem."
      ]
    },
    {
      "cell_type": "code",
      "metadata": {
        "id": "5-hU5EC1NOWR"
      },
      "source": [
        "import tensorflow as tf\n",
        "from tensorflow.keras.layers.experimental import preprocessing\n",
        "\n",
        "import numpy as np"
      ],
      "execution_count": 6,
      "outputs": []
    },
    {
      "cell_type": "code",
      "metadata": {
        "colab": {
          "base_uri": "https://localhost:8080/"
        },
        "id": "jGbRUsBINW7Y",
        "outputId": "d0b2c34d-391b-4e77-ab1b-753f3a4809ee"
      },
      "source": [
        "text = open('SW_EpisodeIV.txt', 'rb').read().decode(encoding='utf-8')\n",
        "text = text.lower()\n",
        "text = text.replace('\"', '')\n",
        "print(text[:500])"
      ],
      "execution_count": 8,
      "outputs": [
        {
          "output_type": "stream",
          "name": "stdout",
          "text": [
            "character dialogue\n",
            "1 threepio did you hear that?  they've shut down the main reactor.  we'll be destroyed for sure.  this is madness!\n",
            "2 threepio we're doomed!\n",
            "3 threepio there'll be no escape for the princess this time.\n",
            "4 threepio what's that?\n",
            "5 threepio i should have known better than to trust the logic of a half-sized thermocapsulary dehousing assister...\n",
            "6 luke hurry up!  come with me!  what are you waiting for?!  get in gear!\n",
            "7 threepio artoo! artoo-detoo, where are you?\n",
            "8 threepio at last! \n"
          ]
        }
      ]
    },
    {
      "cell_type": "markdown",
      "metadata": {
        "id": "YgMEEFTDOPLS"
      },
      "source": [
        "We can see that the script has 3 main parts: the line number, the character speaking, and what the character said. It will be interesting to see how the models are able to recreate this."
      ]
    },
    {
      "cell_type": "code",
      "metadata": {
        "colab": {
          "base_uri": "https://localhost:8080/"
        },
        "id": "4CixuJiLPRk-",
        "outputId": "ddaddbba-ae33-4150-9604-52497be84e92"
      },
      "source": [
        "chars = sorted(set(text))\n",
        "print(chars)"
      ],
      "execution_count": 9,
      "outputs": [
        {
          "output_type": "stream",
          "name": "stdout",
          "text": [
            "['\\n', ' ', '!', \"'\", ',', '-', '.', '0', '1', '2', '3', '4', '5', '6', '7', '8', '9', ';', '?', '\\\\', 'a', 'b', 'c', 'd', 'e', 'f', 'g', 'h', 'i', 'j', 'k', 'l', 'm', 'n', 'o', 'p', 'q', 'r', 's', 't', 'u', 'v', 'w', 'x', 'y', 'z']\n"
          ]
        }
      ]
    },
    {
      "cell_type": "markdown",
      "metadata": {
        "id": "n-tnIJEKO8vA"
      },
      "source": [
        "# Task 1"
      ]
    },
    {
      "cell_type": "markdown",
      "metadata": {
        "id": "PT15u9lNTGzO"
      },
      "source": [
        "Now we need to transform this script data and character encoding, into the actual datasets that we are going to use for training."
      ]
    },
    {
      "cell_type": "code",
      "metadata": {
        "colab": {
          "base_uri": "https://localhost:8080/"
        },
        "id": "HQ-pzG0mTHX4",
        "outputId": "5147cce2-4478-473e-f702-beb47c4c90b0"
      },
      "source": [
        "import keras as K\n",
        "\n",
        "seq_length = 50\n",
        "X_train = []\n",
        "y_train = []\n",
        "# X_train needs to be an array of the indicies of the characters in the sequence\n",
        "# y_train needs to be the correct next character\n",
        "for i in range(0, len(text) - seq_length):\n",
        "  X = text[i:i + seq_length]\n",
        "  y = text[i + seq_length]\n",
        "  X_train.append([chars.index(x) for x in X])\n",
        "  y_train.append(chars.index(y))\n",
        "\n",
        "X_train = np.reshape(X_train, (len(X_train), seq_length))\n",
        "# convert to one hot encoding\n",
        "y_train = K.utils.np_utils.to_categorical(y_train)\n",
        "\n",
        "print(X_train[0])\n",
        "print(y_train[0])\n",
        "print(''.join([chars[x] for x in X_train[0]]))"
      ],
      "execution_count": 10,
      "outputs": [
        {
          "output_type": "stream",
          "name": "stdout",
          "text": [
            "[22 27 20 37 20 22 39 24 37  1 23 28 20 31 34 26 40 24  0  8  1 39 27 37\n",
            " 24 24 35 28 34  1 23 28 23  1 44 34 40  1 27 24 20 37  1 39 27 20 39 18\n",
            "  1  1]\n",
            "[0. 0. 0. 0. 0. 0. 0. 0. 0. 0. 0. 0. 0. 0. 0. 0. 0. 0. 0. 0. 0. 0. 0. 0.\n",
            " 0. 0. 0. 0. 0. 0. 0. 0. 0. 0. 0. 0. 0. 0. 0. 1. 0. 0. 0. 0. 0. 0.]\n",
            "character dialogue\n",
            "1 threepio did you hear that?  \n"
          ]
        }
      ]
    },
    {
      "cell_type": "markdown",
      "metadata": {
        "id": "pcR3qEUZ4Daz"
      },
      "source": [
        "Doing the Training, Validation, Test split"
      ]
    },
    {
      "cell_type": "code",
      "metadata": {
        "id": "BleLYZuO4Ike"
      },
      "source": [
        "from sklearn.model_selection import train_test_split \n",
        "\n",
        "# train: 80%, val: 10%, test: 10%\n",
        "X_train, X_test, y_train, y_test = train_test_split(X_train, y_train, test_size=0.2, random_state=1)\n",
        "X_val, X_test, y_val, y_test = train_test_split(X_test, y_test, test_size=0.5, random_state=1) "
      ],
      "execution_count": 11,
      "outputs": []
    },
    {
      "cell_type": "markdown",
      "metadata": {
        "id": "EZ9QY8lG45Bf"
      },
      "source": [
        "# Task 1 (Part 1)"
      ]
    },
    {
      "cell_type": "markdown",
      "metadata": {
        "id": "I0Lfn0sGWpP2"
      },
      "source": [
        "Now that our dataset is ready, it is time to create the actual model. I am using a structure of one input layer connected to an embedding layer whose size is a huyperparameter. That layer outputs a 3D tensor that is fed into to the SimpleRNN layer which is what handles that extra timestep dimension. That is then connected to the dense layer which feeds into the output. In the dense layer I am using an exponential linear unit activation function. In the output layer I am using softmax. Finally, I opt to use the adam optimizer for the whole thing and use categorical cross entropy to find the the loss."
      ]
    },
    {
      "cell_type": "code",
      "metadata": {
        "id": "IorRJJpd5bML"
      },
      "source": [
        "rnn_units = 256\n",
        "dense_units = 128\n",
        "embedding_dim = 100\n",
        "\n",
        "model = tf.keras.models.Sequential()\n",
        "input = tf.keras.layers.Input(shape=(seq_length, ))\n",
        "embedding = tf.keras.layers.Embedding(len(chars), embedding_dim, trainable=False)(input)\n",
        "simple_rnn = tf.keras.layers.SimpleRNN(rnn_units,)(embedding)\n",
        "dense = tf.keras.layers.Dense(dense_units, activation=\"elu\")(simple_rnn)\n",
        "output = tf.keras.layers.Dense(len(chars), activation='softmax')(dense)\n",
        "    \n",
        "model = tf.keras.Model(inputs=input, outputs=output)"
      ],
      "execution_count": 12,
      "outputs": []
    },
    {
      "cell_type": "code",
      "metadata": {
        "id": "XpSFjeYUpa4P"
      },
      "source": [
        "model.compile(loss='categorical_crossentropy',\n",
        "                optimizer=tf.keras.optimizers.Adam(learning_rate=0.001),\n",
        "                metrics=['accuracy'],\n",
        "              )"
      ],
      "execution_count": 13,
      "outputs": []
    },
    {
      "cell_type": "code",
      "metadata": {
        "colab": {
          "base_uri": "https://localhost:8080/"
        },
        "id": "Dy56_gHDwVCC",
        "outputId": "e61a73c8-3cbb-45d7-9e2a-bbb6e3cbb802"
      },
      "source": [
        "model.summary()"
      ],
      "execution_count": 14,
      "outputs": [
        {
          "output_type": "stream",
          "name": "stdout",
          "text": [
            "Model: \"model\"\n",
            "_________________________________________________________________\n",
            "Layer (type)                 Output Shape              Param #   \n",
            "=================================================================\n",
            "input_1 (InputLayer)         [(None, 50)]              0         \n",
            "_________________________________________________________________\n",
            "embedding (Embedding)        (None, 50, 100)           4600      \n",
            "_________________________________________________________________\n",
            "simple_rnn (SimpleRNN)       (None, 256)               91392     \n",
            "_________________________________________________________________\n",
            "dense (Dense)                (None, 128)               32896     \n",
            "_________________________________________________________________\n",
            "dense_1 (Dense)              (None, 46)                5934      \n",
            "=================================================================\n",
            "Total params: 134,822\n",
            "Trainable params: 130,222\n",
            "Non-trainable params: 4,600\n",
            "_________________________________________________________________\n"
          ]
        }
      ]
    },
    {
      "cell_type": "code",
      "metadata": {
        "colab": {
          "base_uri": "https://localhost:8080/"
        },
        "id": "mDSbxxbeAP7x",
        "outputId": "4022be35-f937-428f-a007-19ba2c1d2f5b"
      },
      "source": [
        "print([chars[x] for x in X_train[0]])"
      ],
      "execution_count": 15,
      "outputs": [
        {
          "output_type": "stream",
          "name": "stdout",
          "text": [
            "['o', 'n', '.', ' ', ' ', 'y', 'o', 'u', ' ', 'm', 'a', 'y', ' ', 'f', 'i', 'r', 'e', ' ', 'w', 'h', 'e', 'n', ' ', 'r', 'e', 'a', 'd', 'y', '.', '\\n', '4', '3', '6', ' ', 'l', 'e', 'i', 'a', ' ', 'w', 'h', 'a', 't', '?', '\\n', '4', '3', '7', ' ', 't']\n"
          ]
        }
      ]
    },
    {
      "cell_type": "markdown",
      "metadata": {
        "id": "HBR7YTtSf6xJ"
      },
      "source": [
        "Now we can setup some callback functions so that the model will be able to save itself at checkpoints and print out some sample text at the end of every epoch."
      ]
    },
    {
      "cell_type": "code",
      "metadata": {
        "id": "8L7_HjCe0jki"
      },
      "source": [
        "import os\n",
        "from keras.callbacks import Callback\n",
        "\n",
        "checkpoint_dir = './training_checkpoints'\n",
        "checkpoint_prefix = os.path.join(checkpoint_dir, \"ckpt_{epoch}\")\n",
        "\n",
        "checkpoint_callback = tf.keras.callbacks.ModelCheckpoint(\n",
        "    filepath=checkpoint_prefix,\n",
        "    save_weights_only=True)\n",
        "\n",
        "class TextGeneration(Callback):\n",
        "    def __init__(self):\n",
        "       super(Callback, self).__init__() \n",
        "\n",
        "    def on_epoch_end(self, epoch, logs={}):\n",
        "      train_indicies = X_train[0]\n",
        "      train_text = [chars[x] for x in X_train[0]]\n",
        "      print(\"==========================================================\")\n",
        "      print(\"Seed Text: \" + ''.join(train_text))\n",
        "      # generate another 50 characters based off the seed indicies\n",
        "      predicted_chars = []\n",
        "      for i in range(50):\n",
        "        pred = self.model.predict(np.reshape(train_indicies, (1, len(train_indicies))))\n",
        "        result = np.argmax(pred)\n",
        "        predicted_chars.append(chars[result])\n",
        "        #we add the result to the end of the training set so that the next predicition uses it\n",
        "        train_indicies = np.append(train_indicies, result)\n",
        "        train_indicies = train_indicies[1:len(train_indicies)]\n",
        "      print(\"Generated Text: \" + ''.join(predicted_chars))\n",
        "      print(\"==========================================================\")\n",
        "\n",
        "text_generation = TextGeneration()"
      ],
      "execution_count": 16,
      "outputs": []
    },
    {
      "cell_type": "code",
      "metadata": {
        "colab": {
          "base_uri": "https://localhost:8080/"
        },
        "id": "MgZE7jaMznvV",
        "outputId": "e0b89345-4615-41b9-92d6-924d3b29bd8e"
      },
      "source": [
        "model.fit(X_train, y_train,\n",
        "          batch_size=64,\n",
        "          epochs=40,\n",
        "          verbose=2,\n",
        "          callbacks=[checkpoint_callback, text_generation])"
      ],
      "execution_count": 17,
      "outputs": [
        {
          "output_type": "stream",
          "name": "stdout",
          "text": [
            "Epoch 1/40\n",
            "902/902 - 54s - loss: 2.6217 - accuracy: 0.2759\n",
            "==========================================================\n",
            "Seed Text: on.  you may fire when ready.\n",
            "436 leia what?\n",
            "437 t\n",
            "Generated Text: he the the the the the the the the the the the the\n",
            "==========================================================\n",
            "Epoch 2/40\n",
            "902/902 - 51s - loss: 2.2094 - accuracy: 0.3484\n",
            "==========================================================\n",
            "Seed Text: on.  you may fire when ready.\n",
            "436 leia what?\n",
            "437 t\n",
            "Generated Text: an the the the sting the pit the sting the pit the\n",
            "==========================================================\n",
            "Epoch 3/40\n",
            "902/902 - 52s - loss: 2.0938 - accuracy: 0.3749\n",
            "==========================================================\n",
            "Seed Text: on.  you may fire when ready.\n",
            "436 leia what?\n",
            "437 t\n",
            "Generated Text: hreepio thing the thing the thing the thing the th\n",
            "==========================================================\n",
            "Epoch 4/40\n",
            "902/902 - 47s - loss: 2.0030 - accuracy: 0.3957\n",
            "==========================================================\n",
            "Seed Text: on.  you may fire when ready.\n",
            "436 leia what?\n",
            "437 t\n",
            "Generated Text: his ster the stan the stan the stan the stan the s\n",
            "==========================================================\n",
            "Epoch 5/40\n",
            "902/902 - 48s - loss: 1.9277 - accuracy: 0.4193\n",
            "==========================================================\n",
            "Seed Text: on.  you may fire when ready.\n",
            "436 leia what?\n",
            "437 t\n",
            "Generated Text: hreepio the the to the sore ind the sore ind the s\n",
            "==========================================================\n",
            "Epoch 6/40\n",
            "902/902 - 47s - loss: 1.8602 - accuracy: 0.4358\n",
            "==========================================================\n",
            "Seed Text: on.  you may fire when ready.\n",
            "436 leia what?\n",
            "437 t\n",
            "Generated Text: arkin where the sear the sear the sear the sear th\n",
            "==========================================================\n",
            "Epoch 7/40\n",
            "902/902 - 47s - loss: 1.8053 - accuracy: 0.4495\n",
            "==========================================================\n",
            "Seed Text: on.  you may fire when ready.\n",
            "436 leia what?\n",
            "437 t\n",
            "Generated Text: hreepio what it the rean the fore it we're got the\n",
            "==========================================================\n",
            "Epoch 8/40\n",
            "902/902 - 53s - loss: 1.7619 - accuracy: 0.4625\n",
            "==========================================================\n",
            "Seed Text: on.  you may fire when ready.\n",
            "436 leia what?\n",
            "437 t\n",
            "Generated Text: hreepio where the stand a stracked the stand a she\n",
            "==========================================================\n",
            "Epoch 9/40\n",
            "902/902 - 51s - loss: 1.7240 - accuracy: 0.4726\n",
            "==========================================================\n",
            "Seed Text: on.  you may fire when ready.\n",
            "436 leia what?\n",
            "437 t\n",
            "Generated Text: hreepio i can see the stare come on the stare come\n",
            "==========================================================\n",
            "Epoch 10/40\n",
            "902/902 - 48s - loss: 1.6884 - accuracy: 0.4822\n",
            "==========================================================\n",
            "Seed Text: on.  you may fire when ready.\n",
            "436 leia what?\n",
            "437 t\n",
            "Generated Text: hreepio the can your sand the red a come on the so\n",
            "==========================================================\n",
            "Epoch 11/40\n",
            "902/902 - 49s - loss: 1.6598 - accuracy: 0.4879\n",
            "==========================================================\n",
            "Seed Text: on.  you may fire when ready.\n",
            "436 leia what?\n",
            "437 t\n",
            "Generated Text: hreepio i wand be the star sparbation the ond ben \n",
            "==========================================================\n",
            "Epoch 12/40\n",
            "902/902 - 49s - loss: 1.6299 - accuracy: 0.4961\n",
            "==========================================================\n",
            "Seed Text: on.  you may fire when ready.\n",
            "436 leia what?\n",
            "437 t\n",
            "Generated Text: hreepio here all real my the more all right mander\n",
            "==========================================================\n",
            "Epoch 13/40\n",
            "902/902 - 48s - loss: 1.6051 - accuracy: 0.5025\n",
            "==========================================================\n",
            "Seed Text: on.  you may fire when ready.\n",
            "436 leia what?\n",
            "437 t\n",
            "Generated Text: hreepio i don't know what i don't see it a for all\n",
            "==========================================================\n",
            "Epoch 14/40\n",
            "902/902 - 48s - loss: 1.5797 - accuracy: 0.5110\n",
            "==========================================================\n",
            "Seed Text: on.  you may fire when ready.\n",
            "436 leia what?\n",
            "437 t\n",
            "Generated Text: arkin you'll real take this the to the start this \n",
            "==========================================================\n",
            "Epoch 15/40\n",
            "902/902 - 49s - loss: 1.5571 - accuracy: 0.5144\n",
            "==========================================================\n",
            "Seed Text: on.  you may fire when ready.\n",
            "436 leia what?\n",
            "437 t\n",
            "Generated Text: hreepio we'll be the master to the spert to the sp\n",
            "==========================================================\n",
            "Epoch 16/40\n",
            "902/902 - 54s - loss: 1.5354 - accuracy: 0.5223\n",
            "==========================================================\n",
            "Seed Text: on.  you may fire when ready.\n",
            "436 leia what?\n",
            "437 t\n",
            "Generated Text: hreepio what you think you wan you think you wan y\n",
            "==========================================================\n",
            "Epoch 17/40\n",
            "902/902 - 54s - loss: 1.5143 - accuracy: 0.5260\n",
            "==========================================================\n",
            "Seed Text: on.  you may fire when ready.\n",
            "436 leia what?\n",
            "437 t\n",
            "Generated Text: hreepio i'm new do the don't see the don't see the\n",
            "==========================================================\n",
            "Epoch 18/40\n",
            "902/902 - 51s - loss: 1.4951 - accuracy: 0.5318\n",
            "==========================================================\n",
            "Seed Text: on.  you may fire when ready.\n",
            "436 leia what?\n",
            "437 t\n",
            "Generated Text: arkin you can the sand of the starding as a father\n",
            "==========================================================\n",
            "Epoch 19/40\n",
            "902/902 - 50s - loss: 1.4764 - accuracy: 0.5386\n",
            "==========================================================\n",
            "Seed Text: on.  you may fire when ready.\n",
            "436 leia what?\n",
            "437 t\n",
            "Generated Text: hreepio what you this is must be a may your see yo\n",
            "==========================================================\n",
            "Epoch 20/40\n",
            "902/902 - 49s - loss: 1.4599 - accuracy: 0.5420\n",
            "==========================================================\n",
            "Seed Text: on.  you may fire when ready.\n",
            "436 leia what?\n",
            "437 t\n",
            "Generated Text: hreepio i think i copleader.  the moss along the s\n",
            "==========================================================\n",
            "Epoch 21/40\n",
            "902/902 - 49s - loss: 1.4396 - accuracy: 0.5477\n",
            "==========================================================\n",
            "Seed Text: on.  you may fire when ready.\n",
            "436 leia what?\n",
            "437 t\n",
            "Generated Text: hreepio i don't have that you think the seacthing \n",
            "==========================================================\n",
            "Epoch 22/40\n",
            "902/902 - 48s - loss: 1.4228 - accuracy: 0.5542\n",
            "==========================================================\n",
            "Seed Text: on.  you may fire when ready.\n",
            "436 leia what?\n",
            "437 t\n",
            "Generated Text: arkin you know what happened the mand people star \n",
            "==========================================================\n",
            "Epoch 23/40\n",
            "902/902 - 47s - loss: 1.4070 - accuracy: 0.5546\n",
            "==========================================================\n",
            "Seed Text: on.  you may fire when ready.\n",
            "436 leia what?\n",
            "437 t\n",
            "Generated Text: rooper leade's no rebel be she bould have so sir y\n",
            "==========================================================\n",
            "Epoch 24/40\n",
            "902/902 - 47s - loss: 1.3914 - accuracy: 0.5586\n",
            "==========================================================\n",
            "Seed Text: on.  you may fire when ready.\n",
            "436 leia what?\n",
            "437 t\n",
            "Generated Text: rooper what's good and the come on, i should have \n",
            "==========================================================\n",
            "Epoch 25/40\n",
            "902/902 - 49s - loss: 1.3749 - accuracy: 0.5650\n",
            "==========================================================\n",
            "Seed Text: on.  you may fire when ready.\n",
            "436 leia what?\n",
            "437 t\n",
            "Generated Text: hreepio what is is it it me in the planet in the p\n",
            "==========================================================\n",
            "Epoch 26/40\n",
            "902/902 - 51s - loss: 1.3588 - accuracy: 0.5702\n",
            "==========================================================\n",
            "Seed Text: on.  you may fire when ready.\n",
            "436 leia what?\n",
            "437 t\n",
            "Generated Text: hreepio i was a princess learding bort in the best\n",
            "==========================================================\n",
            "Epoch 27/40\n",
            "902/902 - 49s - loss: 1.3429 - accuracy: 0.5754\n",
            "==========================================================\n",
            "Seed Text: on.  you may fire when ready.\n",
            "436 leia what?\n",
            "437 t\n",
            "Generated Text: arkin the said you sire to the should have to tell\n",
            "==========================================================\n",
            "Epoch 28/40\n",
            "902/902 - 50s - loss: 1.3284 - accuracy: 0.5760\n",
            "==========================================================\n",
            "Seed Text: on.  you may fire when ready.\n",
            "436 leia what?\n",
            "437 t\n",
            "Generated Text: arkin your stare the more something in the ship ch\n",
            "==========================================================\n",
            "Epoch 29/40\n",
            "902/902 - 49s - loss: 1.3142 - accuracy: 0.5825\n",
            "==========================================================\n",
            "Seed Text: on.  you may fire when ready.\n",
            "436 leia what?\n",
            "437 t\n",
            "Generated Text: hreepio we're all right, i'm not toperatoor let go\n",
            "==========================================================\n",
            "Epoch 30/40\n",
            "902/902 - 50s - loss: 1.2952 - accuracy: 0.5882\n",
            "==========================================================\n",
            "Seed Text: on.  you may fire when ready.\n",
            "436 leia what?\n",
            "437 t\n",
            "Generated Text: hreepio what a prock that ship that ship that ship\n",
            "==========================================================\n",
            "Epoch 31/40\n",
            "902/902 - 49s - loss: 1.2812 - accuracy: 0.5915\n",
            "==========================================================\n",
            "Seed Text: on.  you may fire when ready.\n",
            "436 leia what?\n",
            "437 t\n",
            "Generated Text: ark you're were is is the bad your father.\n",
            "179 thr\n",
            "==========================================================\n",
            "Epoch 32/40\n",
            "902/902 - 49s - loss: 1.2663 - accuracy: 0.5942\n",
            "==========================================================\n",
            "Seed Text: on.  you may fire when ready.\n",
            "436 leia what?\n",
            "437 t\n",
            "Generated Text: arkin they're something.\n",
            "103 owen what is the strr\n",
            "==========================================================\n",
            "Epoch 33/40\n",
            "902/902 - 49s - loss: 1.2548 - accuracy: 0.5959\n",
            "==========================================================\n",
            "Seed Text: on.  you may fire when ready.\n",
            "436 leia what?\n",
            "437 t\n",
            "Generated Text: hreepio what a scan power deten that trouble to at\n",
            "==========================================================\n",
            "Epoch 34/40\n",
            "902/902 - 50s - loss: 1.2378 - accuracy: 0.6016\n",
            "==========================================================\n",
            "Seed Text: on.  you may fire when ready.\n",
            "436 leia what?\n",
            "437 t\n",
            "Generated Text: rooper the force is the back oo the force the be t\n",
            "==========================================================\n",
            "Epoch 35/40\n",
            "902/902 - 50s - loss: 1.2205 - accuracy: 0.6070\n",
            "==========================================================\n",
            "Seed Text: on.  you may fire when ready.\n",
            "436 leia what?\n",
            "437 t\n",
            "Generated Text: hreepio oh, kid senation in the station in the san\n",
            "==========================================================\n",
            "Epoch 36/40\n",
            "902/902 - 50s - loss: 1.2111 - accuracy: 0.6100\n",
            "==========================================================\n",
            "Seed Text: on.  you may fire when ready.\n",
            "436 leia what?\n",
            "437 t\n",
            "Generated Text: arkin the alderaan starting to first mine the bast\n",
            "==========================================================\n",
            "Epoch 37/40\n",
            "902/902 - 48s - loss: 1.1939 - accuracy: 0.6127\n",
            "==========================================================\n",
            "Seed Text: on.  you may fire when ready.\n",
            "436 leia what?\n",
            "437 t\n",
            "Generated Text: arkin i got the rebel speeder.\n",
            "383 threepio well, \n",
            "==========================================================\n",
            "Epoch 38/40\n",
            "902/902 - 50s - loss: 1.1831 - accuracy: 0.6179\n",
            "==========================================================\n",
            "Seed Text: on.  you may fire when ready.\n",
            "436 leia what?\n",
            "437 t\n",
            "Generated Text: arkin the said pounthing in the same of the rebell\n",
            "==========================================================\n",
            "Epoch 39/40\n",
            "902/902 - 51s - loss: 1.1654 - accuracy: 0.6218\n",
            "==========================================================\n",
            "Seed Text: on.  you may fire when ready.\n",
            "436 leia what?\n",
            "437 t\n",
            "Generated Text: hreepio what all right.  i don't know what happene\n",
            "==========================================================\n",
            "Epoch 40/40\n",
            "902/902 - 51s - loss: 1.1499 - accuracy: 0.6276\n",
            "==========================================================\n",
            "Seed Text: on.  you may fire when ready.\n",
            "436 leia what?\n",
            "437 t\n",
            "Generated Text: hreepio i see, there are you going to be a mowith \n",
            "==========================================================\n"
          ]
        },
        {
          "output_type": "execute_result",
          "data": {
            "text/plain": [
              "<keras.callbacks.History at 0x26dc13161f0>"
            ]
          },
          "metadata": {},
          "execution_count": 17
        }
      ]
    },
    {
      "cell_type": "markdown",
      "metadata": {
        "id": "5zSKP8rWSlj3"
      },
      "source": [
        "In order to evaluate our model we are going to look at the accuracy precentage of the model on the training data, and we are going to subjectivley view the output that the model is producing and compare betweeen changes. This will be done by running an evaluation method on the validation set first, then the test set. Im then also going to generate 200 characters of text based off seed data from the test set so that I can have generated output to compare."
      ]
    },
    {
      "cell_type": "code",
      "metadata": {
        "colab": {
          "base_uri": "https://localhost:8080/"
        },
        "id": "rJxsyB4-S-0D",
        "outputId": "ec557aff-912d-4c0f-e079-87ecc79bdc1a"
      },
      "source": [
        "model.evaluate(X_val, y_val,\n",
        "          batch_size=64,\n",
        "          verbose=2,\n",
        "          callbacks=[checkpoint_callback, text_generation])"
      ],
      "execution_count": 18,
      "outputs": [
        {
          "output_type": "stream",
          "name": "stdout",
          "text": [
            "113/113 - 3s - loss: 1.6675 - accuracy: 0.5270\n"
          ]
        },
        {
          "output_type": "execute_result",
          "data": {
            "text/plain": [
              "[1.6674785614013672, 0.5270232558250427]"
            ]
          },
          "metadata": {},
          "execution_count": 18
        }
      ]
    },
    {
      "cell_type": "code",
      "metadata": {
        "colab": {
          "base_uri": "https://localhost:8080/"
        },
        "id": "LsoeKJG8jVgb",
        "outputId": "39423d7f-2152-45ea-929c-9b1ee4560e40"
      },
      "source": [
        "model.evaluate(X_test, y_test,\n",
        "          batch_size=64,\n",
        "          verbose=2,\n",
        "          callbacks=[checkpoint_callback, text_generation])"
      ],
      "execution_count": 19,
      "outputs": [
        {
          "output_type": "stream",
          "name": "stdout",
          "text": [
            "113/113 - 3s - loss: 1.6990 - accuracy: 0.5176\n"
          ]
        },
        {
          "output_type": "execute_result",
          "data": {
            "text/plain": [
              "[1.6989578008651733, 0.5175997614860535]"
            ]
          },
          "metadata": {},
          "execution_count": 19
        }
      ]
    },
    {
      "cell_type": "code",
      "metadata": {
        "colab": {
          "base_uri": "https://localhost:8080/"
        },
        "id": "aT90xp_7DFuW",
        "outputId": "467d3ddf-3e4b-421f-9c68-2979c0c24d71"
      },
      "source": [
        "train_indicies = X_test[0]\n",
        "train_text = [chars[x] for x in X_test[0]]\n",
        "print(\"==========================================================\")\n",
        "print(\"Seed Text: \" + ''.join(train_text))\n",
        "# generate another 200 characters based off the seed indicies\n",
        "predicted_chars = []\n",
        "for i in range(200):\n",
        "  pred = model.predict(np.reshape(train_indicies, (1, len(train_indicies))))\n",
        "  result = np.argmax(pred)\n",
        "  predicted_chars.append(chars[result])\n",
        "  #we add the result to the end of the training set so that the next predicition uses it\n",
        "  train_indicies = np.append(train_indicies, result)\n",
        "  train_indicies = train_indicies[1:len(train_indicies)]\n",
        "print(\"Generated Text: \" + ''.join(predicted_chars))\n",
        "print(\"==========================================================\")"
      ],
      "execution_count": 20,
      "outputs": [
        {
          "output_type": "stream",
          "name": "stdout",
          "text": [
            "==========================================================\n",
            "Seed Text: \n",
            "274 luke i can't get involved!  i've got work to \n",
            "Generated Text: the ship the planet in there is my procise i there?\n",
            "559 ben it should have to going to flong to go about it.\n",
            "703 leia their minder your sorten in the planet in there is my procise i there?\n",
            "559 ben it \n",
            "==========================================================\n"
          ]
        }
      ]
    },
    {
      "cell_type": "markdown",
      "metadata": {
        "id": "NLS7xMZfnAGT"
      },
      "source": [
        "# Task 1 (Part 2)"
      ]
    },
    {
      "cell_type": "markdown",
      "metadata": {
        "id": "llVxHzp8nEYR"
      },
      "source": [
        "The only changes I have made to the model below is changing the SimpleRNN layer to an LSTM."
      ]
    },
    {
      "cell_type": "code",
      "metadata": {
        "id": "gFWA1POonDim"
      },
      "source": [
        "rnn_units = 256\n",
        "dense_units = 128\n",
        "embedding_dim = 100\n",
        "\n",
        "model = tf.keras.models.Sequential()\n",
        "input = tf.keras.layers.Input(shape=(seq_length, ))\n",
        "embedding = tf.keras.layers.Embedding(len(chars), embedding_dim, trainable=False)(input)\n",
        "LSTM = tf.keras.layers.LSTM(rnn_units,)(embedding)\n",
        "dense = tf.keras.layers.Dense(dense_units, activation=\"elu\")(LSTM)\n",
        "output = tf.keras.layers.Dense(len(chars), activation='softmax')(dense)\n",
        "    \n",
        "model = tf.keras.Model(inputs=input, outputs=output)"
      ],
      "execution_count": 21,
      "outputs": []
    },
    {
      "cell_type": "code",
      "metadata": {
        "id": "aFFwHYqlnp0g"
      },
      "source": [
        "model.compile(loss='categorical_crossentropy',\n",
        "                optimizer=tf.keras.optimizers.Adam(learning_rate=0.001),\n",
        "                metrics=['accuracy'],\n",
        "              )"
      ],
      "execution_count": 22,
      "outputs": []
    },
    {
      "cell_type": "code",
      "metadata": {
        "colab": {
          "base_uri": "https://localhost:8080/"
        },
        "id": "dBKwNVvsns9H",
        "outputId": "e012cd6d-b2f6-4e37-c745-dea914d4134d"
      },
      "source": [
        "model.summary()"
      ],
      "execution_count": 23,
      "outputs": [
        {
          "output_type": "stream",
          "name": "stdout",
          "text": [
            "Model: \"model_1\"\n",
            "_________________________________________________________________\n",
            "Layer (type)                 Output Shape              Param #   \n",
            "=================================================================\n",
            "input_2 (InputLayer)         [(None, 50)]              0         \n",
            "_________________________________________________________________\n",
            "embedding_1 (Embedding)      (None, 50, 100)           4600      \n",
            "_________________________________________________________________\n",
            "lstm (LSTM)                  (None, 256)               365568    \n",
            "_________________________________________________________________\n",
            "dense_2 (Dense)              (None, 128)               32896     \n",
            "_________________________________________________________________\n",
            "dense_3 (Dense)              (None, 46)                5934      \n",
            "=================================================================\n",
            "Total params: 408,998\n",
            "Trainable params: 404,398\n",
            "Non-trainable params: 4,600\n",
            "_________________________________________________________________\n"
          ]
        }
      ]
    },
    {
      "cell_type": "code",
      "metadata": {
        "colab": {
          "base_uri": "https://localhost:8080/"
        },
        "id": "4fiNGWYan2UT",
        "outputId": "42e4907c-1a83-44f8-cde2-bda0ac96aa80"
      },
      "source": [
        "model.fit(X_train, y_train,\n",
        "          batch_size=64,\n",
        "          epochs=40,\n",
        "          verbose=2,\n",
        "          callbacks=[checkpoint_callback, text_generation])"
      ],
      "execution_count": null,
      "outputs": [
        {
          "output_type": "stream",
          "name": "stdout",
          "text": [
            "Epoch 1/40\n",
            "902/902 - 229s - loss: 2.6433 - accuracy: 0.2669\n",
            "==========================================================\n",
            "Seed Text: on.  you may fire when ready.\n",
            "436 leia what?\n",
            "437 t\n",
            "Generated Text: hreepin the the the the the the the the the the th\n",
            "==========================================================\n",
            "Epoch 2/40\n",
            "902/902 - 218s - loss: 2.0979 - accuracy: 0.3768\n",
            "==========================================================\n",
            "Seed Text: on.  you may fire when ready.\n",
            "436 leia what?\n",
            "437 t\n",
            "Generated Text: hreepio on the pere the sed the sed the sed the se\n",
            "==========================================================\n",
            "Epoch 3/40\n",
            "902/902 - 211s - loss: 1.9067 - accuracy: 0.4263\n",
            "==========================================================\n",
            "Seed Text: on.  you may fire when ready.\n",
            "436 leia what?\n",
            "437 t\n",
            "Generated Text: hreepio i'm in't the seation the seater an the sea\n",
            "==========================================================\n",
            "Epoch 4/40\n",
            "902/902 - 210s - loss: 1.7787 - accuracy: 0.4573\n",
            "==========================================================\n",
            "Seed Text: on.  you may fire when ready.\n",
            "436 leia what?\n",
            "437 t\n",
            "Generated Text: hreepio what you see the seation the reate the mas\n",
            "==========================================================\n",
            "Epoch 5/40\n",
            "902/902 - 206s - loss: 1.6707 - accuracy: 0.4875\n",
            "==========================================================\n",
            "Seed Text: on.  you may fire when ready.\n",
            "436 leia what?\n",
            "437 t\n",
            "Generated Text: hreepio i could i way here the ship ship ship she \n",
            "==========================================================\n",
            "Epoch 6/40\n",
            "902/902 - 206s - loss: 1.5740 - accuracy: 0.5142\n",
            "==========================================================\n",
            "Seed Text: on.  you may fire when ready.\n",
            "436 leia what?\n",
            "437 t\n",
            "Generated Text: hreepio i don't know what have you bear deand on t\n",
            "==========================================================\n",
            "Epoch 7/40\n",
            "902/902 - 207s - loss: 1.4842 - accuracy: 0.5385\n",
            "==========================================================\n",
            "Seed Text: on.  you may fire when ready.\n",
            "436 leia what?\n",
            "437 t\n",
            "Generated Text: hreepio what i mast the rebel i have the rebel i h\n",
            "==========================================================\n",
            "Epoch 8/40\n",
            "902/902 - 206s - loss: 1.4037 - accuracy: 0.5581\n",
            "==========================================================\n",
            "Seed Text: on.  you may fire when ready.\n",
            "436 leia what?\n",
            "437 t\n",
            "Generated Text: hreepio well, i can't be about the rebel is and th\n",
            "==========================================================\n",
            "Epoch 9/40\n",
            "902/902 - 212s - loss: 1.3208 - accuracy: 0.5803\n",
            "==========================================================\n",
            "Seed Text: on.  you may fire when ready.\n",
            "436 leia what?\n",
            "437 t\n",
            "Generated Text: hreepio oh, it is the rebel be is out of here.\n",
            "698\n",
            "==========================================================\n",
            "Epoch 10/40\n",
            "902/902 - 217s - loss: 1.2380 - accuracy: 0.6067\n",
            "==========================================================\n",
            "Seed Text: on.  you may fire when ready.\n",
            "436 leia what?\n",
            "437 t\n",
            "Generated Text: hreepio what a missor this thing.\n",
            "222 luke what is\n",
            "==========================================================\n",
            "Epoch 11/40\n",
            "902/902 - 209s - loss: 1.1503 - accuracy: 0.6323\n",
            "==========================================================\n",
            "Seed Text: on.  you may fire when ready.\n",
            "436 leia what?\n",
            "437 t\n",
            "Generated Text: hreepio what a prese se stard leader.  where are y\n",
            "==========================================================\n",
            "Epoch 12/40\n",
            "902/902 - 213s - loss: 1.0660 - accuracy: 0.6560\n",
            "==========================================================\n",
            "Seed Text: on.  you may fire when ready.\n",
            "436 leia what?\n",
            "437 t\n",
            "Generated Text: arkin yes.\n",
            "152 owen i have to see him.\n",
            "800 luke i \n",
            "==========================================================\n",
            "Epoch 13/40\n",
            "902/902 - 210s - loss: 0.9806 - accuracy: 0.6821\n",
            "==========================================================\n",
            "Seed Text: on.  you may fire when ready.\n",
            "436 leia what?\n",
            "437 t\n",
            "Generated Text: arkin the preace reball be able to prest the stati\n",
            "==========================================================\n",
            "Epoch 14/40\n",
            "902/902 - 212s - loss: 0.8963 - accuracy: 0.7076\n",
            "==========================================================\n",
            "Seed Text: on.  you may fire when ready.\n",
            "436 leia what?\n",
            "437 t\n",
            "Generated Text: hreepio what are you talking about?\n",
            "34 luke what a\n",
            "==========================================================\n",
            "Epoch 15/40\n",
            "902/902 - 216s - loss: 0.8128 - accuracy: 0.7337\n",
            "==========================================================\n",
            "Seed Text: on.  you may fire when ready.\n",
            "436 leia what?\n",
            "437 t\n",
            "Generated Text: arkin you worrse or a ackionave the outs in the re\n",
            "==========================================================\n",
            "Epoch 16/40\n",
            "902/902 - 215s - loss: 0.7343 - accuracy: 0.7585\n",
            "==========================================================\n",
            "Seed Text: on.  you may fire when ready.\n",
            "436 leia what?\n",
            "437 t\n",
            "Generated Text: hreepio they're not going to try to the lon.\n",
            "9v2 t\n",
            "==========================================================\n",
            "Epoch 17/40\n",
            "902/902 - 214s - loss: 0.6640 - accuracy: 0.7815\n",
            "==========================================================\n",
            "Seed Text: on.  you may fire when ready.\n",
            "436 leia what?\n",
            "437 t\n",
            "Generated Text: rooper all right, me and these sport mas and peren\n",
            "==========================================================\n",
            "Epoch 18/40\n",
            "902/902 - 212s - loss: 0.5996 - accuracy: 0.8025\n",
            "==========================================================\n",
            "Seed Text: on.  you may fire when ready.\n",
            "436 leia what?\n",
            "437 t\n",
            "Generated Text: arkin you're to go to come back.\n",
            "108 threepio i do\n",
            "==========================================================\n",
            "Epoch 19/40\n",
            "902/902 - 206s - loss: 0.5376 - accuracy: 0.8230\n",
            "==========================================================\n",
            "Seed Text: on.  you may fire when ready.\n",
            "436 leia what?\n",
            "437 t\n",
            "Generated Text: arkin you want them.\n",
            "333 ben there's nothing is al\n",
            "==========================================================\n",
            "Epoch 20/40\n",
            "902/902 - 205s - loss: 0.4820 - accuracy: 0.8412\n",
            "==========================================================\n",
            "Seed Text: on.  you may fire when ready.\n",
            "436 leia what?\n",
            "437 t\n",
            "Generated Text: roibll we'll meaten.\n",
            "433 ben you course i can the \n",
            "==========================================================\n",
            "Epoch 21/40\n",
            "902/902 - 205s - loss: 0.4324 - accuracy: 0.8560\n",
            "==========================================================\n",
            "Seed Text: on.  you may fire when ready.\n",
            "436 leia what?\n",
            "437 t\n",
            "Generated Text: hree i'm here to remport byyire something everythi\n",
            "==========================================================\n",
            "Epoch 22/40\n",
            "902/902 - 204s - loss: 0.3982 - accuracy: 0.8678\n",
            "==========================================================\n",
            "Seed Text: on.  you may fire when ready.\n",
            "436 leia what?\n",
            "437 t\n",
            "Generated Text: arkin yes.\n",
            "415 han i stayt  a thousaly.  the jump \n",
            "==========================================================\n",
            "Epoch 23/40\n",
            "902/902 - 220s - loss: 0.3553 - accuracy: 0.8818\n",
            "==========================================================\n",
            "Seed Text: on.  you may fire when ready.\n",
            "436 leia what?\n",
            "437 t\n",
            "Generated Text: arkin you wait a planetion.\n",
            "910 luke i know it's l\n",
            "==========================================================\n",
            "Epoch 24/40\n"
          ]
        }
      ]
    },
    {
      "cell_type": "code",
      "metadata": {
        "id": "nfyWywaasT76"
      },
      "source": [
        "model.evaluate(X_val, y_val,\n",
        "          batch_size=64,\n",
        "          verbose=2,\n",
        "          callbacks=[checkpoint_callback, text_generation])"
      ],
      "execution_count": null,
      "outputs": []
    },
    {
      "cell_type": "code",
      "metadata": {
        "id": "73Hp-l_SsYEQ"
      },
      "source": [
        "model.evaluate(X_test, y_test,\n",
        "          batch_size=64,\n",
        "          verbose=2,\n",
        "          callbacks=[checkpoint_callback, text_generation])"
      ],
      "execution_count": null,
      "outputs": []
    },
    {
      "cell_type": "code",
      "metadata": {
        "id": "Ddd2OlbpCxYh"
      },
      "source": [
        "train_indicies = X_test[0]\n",
        "train_text = [chars[x] for x in X_test[0]]\n",
        "print(\"==========================================================\")\n",
        "print(\"Seed Text: \" + ''.join(train_text))\n",
        "# generate another 200 characters based off the seed indicies\n",
        "predicted_chars = []\n",
        "for i in range(200):\n",
        "  pred = model.predict(np.reshape(train_indicies, (1, len(train_indicies))))\n",
        "  result = np.argmax(pred)\n",
        "  predicted_chars.append(chars[result])\n",
        "  #we add the result to the end of the training set so that the next predicition uses it\n",
        "  train_indicies = np.append(train_indicies, result)\n",
        "  train_indicies = train_indicies[1:len(train_indicies)]\n",
        "print(\"Generated Text: \" + ''.join(predicted_chars))\n",
        "print(\"==========================================================\")"
      ],
      "execution_count": null,
      "outputs": []
    },
    {
      "cell_type": "markdown",
      "metadata": {
        "id": "-M-bDuctBPpV"
      },
      "source": [
        "The major differences are that the LSTM model takes much longer to train and ended with far higher accuracy after training when compared to the SimpleRNN model. Despite the major difference in final training accuracy ( 95% vs. 62% ) the accuracy on the validation and test sets was very similar to one another, and thus it seems the two may generalize the same. When comparing the output of the two, the lstm seems to use puncutuation better and less of the words are made up. Its difficult to say if this is due to randomness or because the LSTM model learned these things better, but with trying different seeds this seems to hold generally true."
      ]
    },
    {
      "cell_type": "markdown",
      "metadata": {
        "id": "mK22wEYZBFKo"
      },
      "source": [
        "# Task 2"
      ]
    },
    {
      "cell_type": "markdown",
      "metadata": {
        "id": "MYf5LG4sEpJn"
      },
      "source": [
        "Below I load the Google's pre-trained word2vec (https://code.google.com/archive/p/word2vec/)"
      ]
    },
    {
      "cell_type": "code",
      "metadata": {
        "colab": {
          "base_uri": "https://localhost:8080/"
        },
        "id": "N04CiAvzEX3M",
        "outputId": "cb717a96-f637-4ae1-d30f-5e3a2e09f6f3"
      },
      "source": [
        "import gensim.downloader as api\n",
        "w2v = api.load('word2vec-google-news-300')"
      ],
      "execution_count": null,
      "outputs": [
        {
          "output_type": "stream",
          "name": "stdout",
          "text": [
            "[==================================================] 100.0% 1662.8/1662.8MB downloaded\n"
          ]
        }
      ]
    },
    {
      "cell_type": "code",
      "metadata": {
        "colab": {
          "base_uri": "https://localhost:8080/"
        },
        "id": "VDekb-5TEdqs",
        "outputId": "bb87d46b-9e20-4d2c-ae4f-865b78771846"
      },
      "source": [
        "p1w1 = w2v[input(\"Enter pair 1 word 1: \")]\n",
        "p1w2 = w2v[input(\"Enter pair 1 word 2: \")]\n",
        "p2w1 = w2v[input(\"Enter pair 2 word 1: \")]\n",
        "p2w2 = w2v[input(\"Enter pair 2 word 2: \")]"
      ],
      "execution_count": null,
      "outputs": [
        {
          "name": "stdout",
          "output_type": "stream",
          "text": [
            "Enter pair 1 word 1: dog\n",
            "Enter pair 1 word 2: puppy\n",
            "Enter pair 2 word 1: bottle\n",
            "Enter pair 2 word 2: hat\n"
          ]
        }
      ]
    },
    {
      "cell_type": "code",
      "metadata": {
        "colab": {
          "base_uri": "https://localhost:8080/"
        },
        "id": "L76ucJ0vJfF3",
        "outputId": "f794c20f-7fe4-4e23-ac50-a344bd10b791"
      },
      "source": [
        "from numpy import dot\n",
        "from numpy.linalg import norm\n",
        "import math\n",
        "# cosine similarity implemented using numpy\n",
        "def cosine_similarity(list1, list2):\n",
        "  result = dot(list1, list2)/(norm(list1)*norm(list2))\n",
        "  return(result)\n",
        "\n",
        "def euclidian_dissimilarity(list1, list2):\n",
        "  sum = 0\n",
        "  for i in range(len(list1)):\n",
        "    sum += (list1[i] - list2[i])**2\n",
        "  return math.sqrt(sum)\n",
        "\n",
        "sim1 = str(cosine_similarity(p1w1, p1w2))\n",
        "sim2 = str(cosine_similarity(p2w1, p2w2))\n",
        "sim3 = str(euclidian_dissimilarity(p1w1, p1w2))\n",
        "sim4 = str(euclidian_dissimilarity(p2w1, p2w2))\n",
        "print(\"cosine similarity of the first pair of words is: \" + sim1)\n",
        "print(\"cosine similarity of the second pair of words is: \" + sim2)\n",
        "print(\"euclidian dissimilarity of the first pair of words is: \" + sim3)\n",
        "print(\"euclidian dissimilarity of the second pair of words is: \" + sim4)"
      ],
      "execution_count": null,
      "outputs": [
        {
          "output_type": "stream",
          "name": "stdout",
          "text": [
            "cosine similarity of the first pair of words is: 0.8106429\n",
            "cosine similarity of the second pair of words is: 0.2739666\n",
            "euclidian dissimilarity of the first pair of words is: 1.9458779775316037\n",
            "euclidian dissimilarity of the second pair of words is: 3.7057712646698056\n"
          ]
        }
      ]
    },
    {
      "cell_type": "markdown",
      "metadata": {
        "id": "vHzZ3pXeSsCV"
      },
      "source": [
        "The measure of dissimiliarity that I implemented is the euclidian distance between the word embedings as described in [An Empirical Comparison of Dissimilarity Measures for \n",
        "Recommender Systems](https://poseidon01.ssrn.com/delivery.php?ID=208022116002080089004123066029071081070087090027053041122038061059001002112098072115067106070047030079115127070066105085067124127006065004087015115079088121002111114022116005022&EXT=pdf&INDEX=TRUE). The reason that euclidian distance makes sense as a disimilarity score is that it is essentially just measures the distance between all the word embedding values. If the word embedding values arent very different (i.e. the difference between them is closer to 0) then the euclidian distance will be lower and thus the dissimilarity score. "
      ]
    }
  ]
}